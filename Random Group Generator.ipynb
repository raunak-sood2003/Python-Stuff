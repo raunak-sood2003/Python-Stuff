{
 "cells": [
  {
   "cell_type": "code",
   "execution_count": 1,
   "metadata": {},
   "outputs": [],
   "source": [
    "import random as rd\n",
    "import numpy as np"
   ]
  },
  {
   "cell_type": "code",
   "execution_count": 2,
   "metadata": {},
   "outputs": [],
   "source": [
    "# When Entering Names into the String, Make sure to delete all the commas by going into google docs by using find and replace. Replace all the commas with nothing\n",
    "# If there are names where there are two first names, please choose one or the other\n",
    "Names = \"\"\"Banerjee Rajdeep\n",
    "        Cohen Max\n",
    "        Eppling Kim\n",
    "        Hao Alicia\n",
    "        Hatton Colin\n",
    "        Huang Felix\n",
    "        Kalarickal Matthew\n",
    "        Kapoor Rohan\n",
    "        Krishnakumar Kirtana\n",
    "        Li Alexander\n",
    "        Liao Rory\n",
    "        Narra Kamal\n",
    "        Sahoo Poonam\n",
    "        Shishkov Stephan\n",
    "        Simpson Owen\n",
    "        Sood Raunak\n",
    "        Tan Allan\n",
    "        Wang Charles\n",
    "        Wang Charlotte\n",
    "        Ying Alexander\n",
    "        Zilberberg Simona\"\"\"\n",
    "Names = Names.split()\n",
    "# Enter Group Size here\n",
    "groupSize = 2"
   ]
  },
  {
   "cell_type": "code",
   "execution_count": 3,
   "metadata": {},
   "outputs": [
    {
     "data": {
      "text/plain": [
       "(['Rajdeep',\n",
       "  'Max',\n",
       "  'Kim',\n",
       "  'Alicia',\n",
       "  'Colin',\n",
       "  'Felix',\n",
       "  'Matthew',\n",
       "  'Rohan',\n",
       "  'Kirtana',\n",
       "  'Alexander',\n",
       "  'Rory',\n",
       "  'Kamal',\n",
       "  'Poonam',\n",
       "  'Stephan',\n",
       "  'Owen',\n",
       "  'Raunak',\n",
       "  'Allan',\n",
       "  'Charles',\n",
       "  'Charlotte',\n",
       "  'Alexander',\n",
       "  'Simona'],\n",
       " ['Banerjee',\n",
       "  'Cohen',\n",
       "  'Eppling',\n",
       "  'Hao',\n",
       "  'Hatton',\n",
       "  'Huang',\n",
       "  'Kalarickal',\n",
       "  'Kapoor',\n",
       "  'Krishnakumar',\n",
       "  'Li',\n",
       "  'Liao',\n",
       "  'Narra',\n",
       "  'Sahoo',\n",
       "  'Shishkov',\n",
       "  'Simpson',\n",
       "  'Sood',\n",
       "  'Tan',\n",
       "  'Wang',\n",
       "  'Wang',\n",
       "  'Ying',\n",
       "  'Zilberberg'])"
      ]
     },
     "execution_count": 3,
     "metadata": {},
     "output_type": "execute_result"
    }
   ],
   "source": [
    "count = 0\n",
    "FirstName = []\n",
    "LastName = []\n",
    "for item in Names:\n",
    "    if count % 2 == 0:\n",
    "        LastName.append(item)\n",
    "        count = count + 1\n",
    "    else:\n",
    "        FirstName.append(item)\n",
    "        count = count + 1\n",
    "FirstName, LastName"
   ]
  },
  {
   "cell_type": "code",
   "execution_count": 4,
   "metadata": {},
   "outputs": [
    {
     "data": {
      "text/plain": [
       "21"
      ]
     },
     "execution_count": 4,
     "metadata": {},
     "output_type": "execute_result"
    }
   ],
   "source": [
    "data = {\n",
    "}\n",
    "len(FirstName)"
   ]
  },
  {
   "cell_type": "code",
   "execution_count": 5,
   "metadata": {},
   "outputs": [
    {
     "data": {
      "text/plain": [
       "{'1': 'Rajdeep Banerjee',\n",
       " '2': 'Max Cohen',\n",
       " '3': 'Kim Eppling',\n",
       " '4': 'Alicia Hao',\n",
       " '5': 'Colin Hatton',\n",
       " '6': 'Felix Huang',\n",
       " '7': 'Matthew Kalarickal',\n",
       " '8': 'Rohan Kapoor',\n",
       " '9': 'Kirtana Krishnakumar',\n",
       " '10': 'Alexander Li',\n",
       " '11': 'Rory Liao',\n",
       " '12': 'Kamal Narra',\n",
       " '13': 'Poonam Sahoo',\n",
       " '14': 'Stephan Shishkov',\n",
       " '15': 'Owen Simpson',\n",
       " '16': 'Raunak Sood',\n",
       " '17': 'Allan Tan',\n",
       " '18': 'Charles Wang',\n",
       " '19': 'Charlotte Wang',\n",
       " '20': 'Alexander Ying',\n",
       " '21': 'Simona Zilberberg'}"
      ]
     },
     "execution_count": 5,
     "metadata": {},
     "output_type": "execute_result"
    }
   ],
   "source": [
    "count = 0\n",
    "studentNumber = 1\n",
    "while count < len(FirstName):\n",
    "    data[str(studentNumber)] = FirstName[count] + \" \" + LastName[count]\n",
    "    count = count + 1\n",
    "    studentNumber = studentNumber + 1\n",
    "data"
   ]
  },
  {
   "cell_type": "code",
   "execution_count": 6,
   "metadata": {},
   "outputs": [
    {
     "data": {
      "text/plain": [
       "[1, 2, 3, 4, 5, 6, 7, 8, 9, 10, 11, 12, 13, 14, 15, 16, 17, 18, 19, 20, 21]"
      ]
     },
     "execution_count": 6,
     "metadata": {},
     "output_type": "execute_result"
    }
   ],
   "source": [
    "numbers = []\n",
    "studentNumber = 1\n",
    "for item in FirstName:\n",
    "    numbers.append(studentNumber)\n",
    "    studentNumber = studentNumber + 1\n",
    "numbers"
   ]
  },
  {
   "cell_type": "code",
   "execution_count": 7,
   "metadata": {},
   "outputs": [
    {
     "data": {
      "text/plain": [
       "'21 6 19 4 3 15 5 20 18 12 10 17 8 11 14 1 13 2 16 9 7 '"
      ]
     },
     "execution_count": 7,
     "metadata": {},
     "output_type": "execute_result"
    }
   ],
   "source": [
    "groups = ''\n",
    "count = 1\n",
    "numbers1 = numbers\n",
    "initiallength = len(numbers)\n",
    "while count <= initiallength:\n",
    "    z = rd.choice(numbers1)\n",
    "    numbers1.remove(z)\n",
    "    groups = groups + str(z) + \" \"\n",
    "    count = count + 1\n",
    "groups"
   ]
  },
  {
   "cell_type": "code",
   "execution_count": 8,
   "metadata": {},
   "outputs": [
    {
     "data": {
      "text/plain": [
       "['21',\n",
       " '6',\n",
       " '19',\n",
       " '4',\n",
       " '3',\n",
       " '15',\n",
       " '5',\n",
       " '20',\n",
       " '18',\n",
       " '12',\n",
       " '10',\n",
       " '17',\n",
       " '8',\n",
       " '11',\n",
       " '14',\n",
       " '1',\n",
       " '13',\n",
       " '2',\n",
       " '16',\n",
       " '9',\n",
       " '7']"
      ]
     },
     "execution_count": 8,
     "metadata": {},
     "output_type": "execute_result"
    }
   ],
   "source": [
    "newgroups = groups.split()\n",
    "newgroups"
   ]
  },
  {
   "cell_type": "code",
   "execution_count": 10,
   "metadata": {},
   "outputs": [
    {
     "data": {
      "text/plain": [
       "{1: 'Simona Zilberberg, Alexander Li, Matthew Kalarickal, ',\n",
       " 2: 'Felix Huang, Allan Tan, ',\n",
       " 3: 'Charlotte Wang, Rohan Kapoor, ',\n",
       " 4: 'Alicia Hao, Rory Liao, ',\n",
       " 5: 'Kim Eppling, Stephan Shishkov, ',\n",
       " 6: 'Owen Simpson, Rajdeep Banerjee, ',\n",
       " 7: 'Colin Hatton, Poonam Sahoo, ',\n",
       " 8: 'Alexander Ying, Max Cohen, ',\n",
       " 9: 'Charles Wang, Raunak Sood, ',\n",
       " 10: 'Kamal Narra, Kirtana Krishnakumar, '}"
      ]
     },
     "execution_count": 10,
     "metadata": {},
     "output_type": "execute_result"
    }
   ],
   "source": [
    "actualgroups = {\n",
    "    \n",
    "}\n",
    "var = int(initiallength / groupSize)\n",
    "count = 1\n",
    "while count <= var:\n",
    "    actualgroups[count] = ''\n",
    "    count = count + 1\n",
    "count = 0\n",
    "groupNumber = 1\n",
    "Number1 = 1\n",
    "temp = ''\n",
    "#Work On if it is not a perfect factor\n",
    "'''for item in newgroups:\n",
    "    if count % 3 == 0:\n",
    "        groupNumber = groupNumber + 1\n",
    "        actualgroups[groupNumber] = data[newgroups[count]] + \", \"\n",
    "        count = count + 1\n",
    "    else:\n",
    "        actualgroups[groupNumber] = actualgroups[groupNumber] + data[newgroups[count]] + \", \"\n",
    "        count = count + 1'''\n",
    "#Only works for perfect factor\n",
    "for item in newgroups:\n",
    "    actualgroups[groupNumber] = actualgroups[groupNumber] + data[newgroups[count]] + \", \"\n",
    "    groupNumber = groupNumber + 1\n",
    "    count = count + 1\n",
    "    if count % var == 0:\n",
    "        groupNumber = 1\n",
    "actualgroups"
   ]
  },
  {
   "cell_type": "code",
   "execution_count": null,
   "metadata": {},
   "outputs": [],
   "source": []
  }
 ],
 "metadata": {
  "kernelspec": {
   "display_name": "Python 3",
   "language": "python",
   "name": "python3"
  },
  "language_info": {
   "codemirror_mode": {
    "name": "ipython",
    "version": 3
   },
   "file_extension": ".py",
   "mimetype": "text/x-python",
   "name": "python",
   "nbconvert_exporter": "python",
   "pygments_lexer": "ipython3",
   "version": "3.7.3"
  }
 },
 "nbformat": 4,
 "nbformat_minor": 2
}
