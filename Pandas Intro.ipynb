{
 "cells": [
  {
   "cell_type": "code",
   "execution_count": 1,
   "metadata": {},
   "outputs": [],
   "source": [
    "import random as rd\n",
    "import numpy as np"
   ]
  },
  {
   "cell_type": "code",
   "execution_count": 37,
   "metadata": {},
   "outputs": [],
   "source": [
    "# When Entering Names into the String, Make sure to delete all the commas by going into google docs by using find and replace. Replace all the commas with nothing\n",
    "# If there are names where there are two first names, please choose one or the other\n",
    "Names = \"\"\"Banerjee Rajdeep\n",
    "        Cohen Max\n",
    "        Eppling Kim\n",
    "        Hao Alicia\n",
    "        Hatton Colin\n",
    "        Huang Felix\n",
    "        Kalarickal Matthew\n",
    "        Kapoor Rohan\n",
    "        Krishnakumar Kirtana\n",
    "        Li Alexander\n",
    "        Liao Rory\n",
    "        Narra Kamal\n",
    "        Sahoo Poonam\n",
    "        Shishkov Stephan\n",
    "        Simpson Owen\n",
    "        Sood Raunak\n",
    "        Tan Allan\n",
    "        Wang Charles\n",
    "        Wang Charlotte\n",
    "        Ying Alexander\n",
    "        Zilberberg Simona\"\"\"\n",
    "Names = Names.split()"
   ]
  },
  {
   "cell_type": "code",
   "execution_count": 38,
   "metadata": {},
   "outputs": [
    {
     "data": {
      "text/plain": [
       "(['Rajdeep',\n",
       "  'Max',\n",
       "  'Kim',\n",
       "  'Alicia',\n",
       "  'Colin',\n",
       "  'Felix',\n",
       "  'Matthew',\n",
       "  'Rohan',\n",
       "  'Kirtana',\n",
       "  'Alexander',\n",
       "  'Rory',\n",
       "  'Kamal',\n",
       "  'Poonam',\n",
       "  'Stephan',\n",
       "  'Owen',\n",
       "  'Raunak',\n",
       "  'Allan',\n",
       "  'Charles',\n",
       "  'Charlotte',\n",
       "  'Alexander',\n",
       "  'Simona'],\n",
       " ['Banerjee',\n",
       "  'Cohen',\n",
       "  'Eppling',\n",
       "  'Hao',\n",
       "  'Hatton',\n",
       "  'Huang',\n",
       "  'Kalarickal',\n",
       "  'Kapoor',\n",
       "  'Krishnakumar',\n",
       "  'Li',\n",
       "  'Liao',\n",
       "  'Narra',\n",
       "  'Sahoo',\n",
       "  'Shishkov',\n",
       "  'Simpson',\n",
       "  'Sood',\n",
       "  'Tan',\n",
       "  'Wang',\n",
       "  'Wang',\n",
       "  'Ying',\n",
       "  'Zilberberg'])"
      ]
     },
     "execution_count": 38,
     "metadata": {},
     "output_type": "execute_result"
    }
   ],
   "source": [
    "count = 0\n",
    "FirstName = []\n",
    "LastName = []\n",
    "for item in Names:\n",
    "    if count % 2 == 0:\n",
    "        LastName.append(item)\n",
    "        count = count + 1\n",
    "    else:\n",
    "        FirstName.append(item)\n",
    "        count = count + 1\n",
    "FirstName, LastName"
   ]
  },
  {
   "cell_type": "code",
   "execution_count": 39,
   "metadata": {},
   "outputs": [
    {
     "data": {
      "text/plain": [
       "21"
      ]
     },
     "execution_count": 39,
     "metadata": {},
     "output_type": "execute_result"
    }
   ],
   "source": [
    "data = {\n",
    "}\n",
    "len(FirstName)"
   ]
  },
  {
   "cell_type": "code",
   "execution_count": 40,
   "metadata": {},
   "outputs": [
    {
     "data": {
      "text/plain": [
       "{1: 'Rajdeep Banerjee',\n",
       " 2: 'Max Cohen',\n",
       " 3: 'Kim Eppling',\n",
       " 4: 'Alicia Hao',\n",
       " 5: 'Colin Hatton',\n",
       " 6: 'Felix Huang',\n",
       " 7: 'Matthew Kalarickal',\n",
       " 8: 'Rohan Kapoor',\n",
       " 9: 'Kirtana Krishnakumar',\n",
       " 10: 'Alexander Li',\n",
       " 11: 'Rory Liao',\n",
       " 12: 'Kamal Narra',\n",
       " 13: 'Poonam Sahoo',\n",
       " 14: 'Stephan Shishkov',\n",
       " 15: 'Owen Simpson',\n",
       " 16: 'Raunak Sood',\n",
       " 17: 'Allan Tan',\n",
       " 18: 'Charles Wang',\n",
       " 19: 'Charlotte Wang',\n",
       " 20: 'Alexander Ying',\n",
       " 21: 'Simona Zilberberg'}"
      ]
     },
     "execution_count": 40,
     "metadata": {},
     "output_type": "execute_result"
    }
   ],
   "source": [
    "count = 0\n",
    "studentNumber = 1\n",
    "while count < len(FirstName):\n",
    "    data[studentNumber] = FirstName[count] + \" \" + LastName[count]\n",
    "    count = count + 1\n",
    "    studentNumber = studentNumber + 1\n",
    "data"
   ]
  },
  {
   "cell_type": "code",
   "execution_count": null,
   "metadata": {},
   "outputs": [],
   "source": []
  }
 ],
 "metadata": {
  "kernelspec": {
   "display_name": "Python 3",
   "language": "python",
   "name": "python3"
  },
  "language_info": {
   "codemirror_mode": {
    "name": "ipython",
    "version": 3
   },
   "file_extension": ".py",
   "mimetype": "text/x-python",
   "name": "python",
   "nbconvert_exporter": "python",
   "pygments_lexer": "ipython3",
   "version": "3.7.3"
  }
 },
 "nbformat": 4,
 "nbformat_minor": 2
}
